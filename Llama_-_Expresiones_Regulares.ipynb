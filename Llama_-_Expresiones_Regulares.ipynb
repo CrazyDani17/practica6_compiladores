{
 "cells": [
  {
   "cell_type": "markdown",
   "metadata": {},
   "source": [
    "# 1.-Un programa que reconozca los números flotantes."
   ]
  },
  {
   "cell_type": "code",
   "execution_count": null,
   "metadata": {},
   "outputs": [],
   "source": [
    "import re\n",
    " \n",
    "pattern = '(0|[1-9][0-9]*)\\.[0-9]*'\n",
    "test_string = input(\"Into a float number: \")\n",
    "result = re.match(pattern, test_string)\n",
    " \n",
    "if result:\n",
    " print(\"Search successful.\")\n",
    "else:\n",
    " print(\"Search unsuccessful.\")\n"
   ]
  },
  {
   "cell_type": "markdown",
   "metadata": {},
   "source": [
    "# 2.-Un programa que reconozca la fechas en este formato dd-mm-yyyy."
   ]
  },
  {
   "cell_type": "code",
   "execution_count": null,
   "metadata": {},
   "outputs": [],
   "source": [
    "import re\n",
    " \n",
    "pattern = '([0-2][0-9]|30|31)\\-(0[0-9]|11|12)\\-[0-9]{4}'\n",
    "test_string = input(\"Into a date: \")\n",
    "result = re.match(pattern, test_string)\n",
    " \n",
    "if result:\n",
    " print(\"Search successful.\")\n",
    "else:\n",
    " print(\"Search unsuccessful.\")"
   ]
  },
  {
   "cell_type": "markdown",
   "metadata": {},
   "source": [
    "# 3.-Un programa que reconozca los espacios en blanco incluyendo las tabulaciones y saltos de linea."
   ]
  },
  {
   "cell_type": "code",
   "execution_count": null,
   "metadata": {},
   "outputs": [],
   "source": [
    "import re\n",
    " \n",
    "pattern = '(\\t|\\n|\\s)+'\n",
    "test_string = input(\"Into spaces, endlines and tabs: \")\n",
    "result = re.match(pattern, test_string)\n",
    " \n",
    "if result:\n",
    " print(\"Search successful.\")\n",
    "else:\n",
    " print(\"Search unsuccessful.\")\n"
   ]
  },
  {
   "cell_type": "markdown",
   "metadata": {},
   "source": [
    "# 4.-Un programa que reconozca los identificadores del lenguaje propuesto para el trabajo final."
   ]
  },
  {
   "cell_type": "code",
   "execution_count": null,
   "metadata": {},
   "outputs": [],
   "source": [
    "import re\n",
    " \n",
    "pattern = '[a-zA-Z]+[\\w]*'\n",
    "test_string = input(\"Into a identifier in Llama: \")\n",
    "result = re.match(pattern, test_string)\n",
    " \n",
    "if result:\n",
    " print(\"Search successful.\")\n",
    "else:\n",
    " print(\"Search unsuccessful.\")\n"
   ]
  },
  {
   "cell_type": "markdown",
   "metadata": {},
   "source": [
    "# En esta caso, le brindamos el AFD para reconocer identificadores, se le pide obtener la tabla de transiciones e implementar un programa en Python que tome esta tabla (la puedes definir est ́aticamente) y reconozca los identificadores de un archivo de texto (similar a la funci ́on findall de python). (11 puntos)"
   ]
  },
  {
   "cell_type": "code",
   "execution_count": null,
   "metadata": {},
   "outputs": [],
   "source": [
    "import re\n",
    "\n",
    "def caracter(chacha):\n",
    "    global Fin\n",
    "    Fin=\"\"\n",
    "    letra='[a-zA-Z]'\n",
    "    digito='\\d'\n",
    "\n",
    "    #comparamos si es digito o letra\n",
    "    if(re.match(letra,chacha)):\n",
    "        return 'letter'\n",
    "    else:\n",
    "        if(re.match(digito,chacha)):\n",
    "            return 'digit'\n",
    "        #si no es ni un digito ni un operador entonces es un caracter no validp\n",
    "        return -1\n",
    "\n",
    "def valida(chacha):\n",
    "  A={'start':{'letter':'in_id','digit':'empty'},'in_id':{'letter':'in_id','digit':'in_id'}}\n",
    "  state='start'\n",
    "  for i in chacha:\n",
    "    if caracter(i)==-1:\n",
    "      return\n",
    "    state=A[state][caracter(i)]\n",
    "    if state=='empty':\n",
    "      break\n",
    "  if state=='in_id':\n",
    "    return chacha\n",
    "\n",
    "file=open('archivo.txt','r')\n",
    "texto=file.readlines()\n",
    "file.close()\n",
    "\n",
    "def encuentra_todo(texto):\n",
    "    ocurrencias=[]\n",
    "    for renglon in texto:\n",
    "      for palabra in renglon.split(' '):\n",
    "        aux = valida(palabra)\n",
    "        if aux != None:\n",
    "          ocurrencias.append(aux)\n",
    "    return ocurrencias\n",
    "\n",
    "print(encuentra_todo(texto))"
   ]
  }
 ],
 "metadata": {
  "kernelspec": {
   "display_name": "Python 3",
   "language": "python",
   "name": "python3"
  },
  "language_info": {
   "codemirror_mode": {
    "name": "ipython",
    "version": 3
   },
   "file_extension": ".py",
   "mimetype": "text/x-python",
   "name": "python",
   "nbconvert_exporter": "python",
   "pygments_lexer": "ipython3",
   "version": "3.7.3"
  }
 },
 "nbformat": 4,
 "nbformat_minor": 2
}
